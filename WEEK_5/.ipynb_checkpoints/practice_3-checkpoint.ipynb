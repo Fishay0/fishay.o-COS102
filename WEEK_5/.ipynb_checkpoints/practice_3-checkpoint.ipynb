{
 "cells": [
  {
   "cell_type": "code",
   "execution_count": null,
   "id": "603468c0-f829-4c0c-ad46-1473d7650b6c",
   "metadata": {},
   "outputs": [],
   "source": [
    "def changeme( mylist ):\n",
    "    #This changes a passed list\n",
    "    mylist = [1,2,3,4];\n",
    "    print(\"Values inside the function: \", mylist)\n",
    "    return\n",
    "mylist = [10,20,30];\n",
    "changeme( mylist );\n",
    "print (\"Values inside the function: \", mylist)\n",
    "    "
   ]
  }
 ],
 "metadata": {
  "kernelspec": {
   "display_name": "Python 3 (ipykernel)",
   "language": "python",
   "name": "python3"
  },
  "language_info": {
   "codemirror_mode": {
    "name": "ipython",
    "version": 3
   },
   "file_extension": ".py",
   "mimetype": "text/x-python",
   "name": "python",
   "nbconvert_exporter": "python",
   "pygments_lexer": "ipython3",
   "version": "3.11.7"
  }
 },
 "nbformat": 4,
 "nbformat_minor": 5
}
