{
 "cells": [
  {
   "cell_type": "code",
   "execution_count": 2,
   "id": "4b93df93-6d50-47d7-add2-d187e12c85fa",
   "metadata": {},
   "outputs": [
    {
     "name": "stdout",
     "output_type": "stream",
     "text": [
      "My string\n"
     ]
    }
   ],
   "source": [
    "def printme( str ):\n",
    " #This prints a passed string\n",
    " print (str);\n",
    " return;\n",
    "printme( str = \"My string\");\n"
   ]
  },
  {
   "cell_type": "code",
   "execution_count": null,
   "id": "494baeed-3c4a-4647-98b6-d0e77704cb52",
   "metadata": {},
   "outputs": [],
   "source": []
  }
 ],
 "metadata": {
  "kernelspec": {
   "display_name": "Python 3 (ipykernel)",
   "language": "python",
   "name": "python3"
  },
  "language_info": {
   "codemirror_mode": {
    "name": "ipython",
    "version": 3
   },
   "file_extension": ".py",
   "mimetype": "text/x-python",
   "name": "python",
   "nbconvert_exporter": "python",
   "pygments_lexer": "ipython3",
   "version": "3.11.7"
  }
 },
 "nbformat": 4,
 "nbformat_minor": 5
}
