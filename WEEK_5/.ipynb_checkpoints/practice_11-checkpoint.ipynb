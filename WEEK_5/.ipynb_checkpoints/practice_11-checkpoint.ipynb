{
 "cells": [
  {
   "cell_type": "code",
   "execution_count": 9,
   "id": "b771fb09-5afb-4bd3-99f2-cdccc37f8c3a",
   "metadata": {},
   "outputs": [
    {
     "ename": "ImportError",
     "evalue": "cannot import name 'image' from 'PIL' (C:\\ProgramData\\anaconda3\\Lib\\site-packages\\PIL\\__init__.py)",
     "output_type": "error",
     "traceback": [
      "\u001b[1;31m---------------------------------------------------------------------------\u001b[0m",
      "\u001b[1;31mImportError\u001b[0m                               Traceback (most recent call last)",
      "Cell \u001b[1;32mIn[9], line 3\u001b[0m\n\u001b[0;32m      1\u001b[0m \u001b[38;5;28;01mimport\u001b[39;00m \u001b[38;5;21;01mtkinter\u001b[39;00m \u001b[38;5;28;01mas\u001b[39;00m \u001b[38;5;21;01mtk\u001b[39;00m\n\u001b[0;32m      2\u001b[0m \u001b[38;5;28;01mfrom\u001b[39;00m \u001b[38;5;21;01mtkinter\u001b[39;00m \u001b[38;5;28;01mimport\u001b[39;00m messagebox\n\u001b[1;32m----> 3\u001b[0m \u001b[38;5;28;01mfrom\u001b[39;00m \u001b[38;5;21;01mPIL\u001b[39;00m \u001b[38;5;28;01mimport\u001b[39;00m image, imageTK\n\u001b[0;32m      5\u001b[0m \u001b[38;5;28;01mdef\u001b[39;00m \u001b[38;5;21mwelcomeMessage\u001b[39m(username):\n\u001b[0;32m      6\u001b[0m  \u001b[38;5;66;03m# Create a tkinter window\u001b[39;00m\n\u001b[0;32m      7\u001b[0m  window \u001b[38;5;241m=\u001b[39m tk\u001b[38;5;241m.\u001b[39mToplevel(root)\n",
      "\u001b[1;31mImportError\u001b[0m: cannot import name 'image' from 'PIL' (C:\\ProgramData\\anaconda3\\Lib\\site-packages\\PIL\\__init__.py)"
     ]
    }
   ],
   "source": [
    "import tkinter as tk\n",
    "from tkinter import messagebox\n",
    "from PIL import image, imageTK\n",
    "\n",
    "def welcomeMessage(username):\n",
    " # Create a tkinter window\n",
    " window = tk.Toplevel(root)\n",
    " window.geometry(\"500x200\")\n",
    "\n",
    "\n",
    "label_1 = tk.label(window, text=f\"Welcome {username}\\n\")\n",
    "label_1.pack()\n",
    "label_2 = tk.label(window, text=\"This is python GUI with Tkinter\")\n",
    "label_2.pack()\n",
    "\n",
    "# Run the tkinter event loop\n",
    "root. mainloop()\n",
    "\n",
    "def submit():\n",
    "    username = username_entry.get()\n",
    "    password = password_entry.get()\n",
    "\n",
    "if username == \"Mary\" and password == \"cos102\":\n",
    "    welcomeMessage(username)\n",
    "else:\n",
    "    messagebox.showerror(\"Login\", \"Invalid username or password\")"
   ]
  },
  {
   "cell_type": "code",
   "execution_count": null,
   "id": "8ac9a611-7836-4e4c-8d1a-48179d7f2a5a",
   "metadata": {},
   "outputs": [],
   "source": []
  }
 ],
 "metadata": {
  "kernelspec": {
   "display_name": "Python 3 (ipykernel)",
   "language": "python",
   "name": "python3"
  },
  "language_info": {
   "codemirror_mode": {
    "name": "ipython",
    "version": 3
   },
   "file_extension": ".py",
   "mimetype": "text/x-python",
   "name": "python",
   "nbconvert_exporter": "python",
   "pygments_lexer": "ipython3",
   "version": "3.11.7"
  }
 },
 "nbformat": 4,
 "nbformat_minor": 5
}
