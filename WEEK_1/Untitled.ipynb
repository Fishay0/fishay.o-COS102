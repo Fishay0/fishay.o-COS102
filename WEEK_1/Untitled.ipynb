{
 "cells": [
  {
   "cell_type": "code",
   "execution_count": null,
   "id": "8187d4ae-5b8d-43f9-a2f1-bd3c5e1ff2e2",
   "metadata": {},
   "outputs": [],
   "source": [
    "p=int(input enter principal : \" ))\n",
    "t=int(input enter time : \"))\n",
    "r=int(input enter rate : \"))\n",
    "a=(p*r*t)/100\n",
    "print(\"simple interest is : \", a))"
   ]
  },
  {
   "cell_type": "code",
   "execution_count": null,
   "id": "447ae0af-b97a-4dc2-9beb-5100b52df564",
   "metadata": {},
   "outputs": [],
   "source": []
  }
 ],
 "metadata": {
  "kernelspec": {
   "display_name": "Python 3 (ipykernel)",
   "language": "python",
   "name": "python3"
  },
  "language_info": {
   "codemirror_mode": {
    "name": "ipython",
    "version": 3
   },
   "file_extension": ".py",
   "mimetype": "text/x-python",
   "name": "python",
   "nbconvert_exporter": "python",
   "pygments_lexer": "ipython3",
   "version": "3.11.7"
  }
 },
 "nbformat": 4,
 "nbformat_minor": 5
}
