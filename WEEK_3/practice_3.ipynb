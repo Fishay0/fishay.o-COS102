{
 "cells": [
  {
   "cell_type": "code",
   "execution_count": 3,
   "id": "ca700675-f08a-4792-a9e8-5c07ed32043d",
   "metadata": {},
   "outputs": [
    {
     "ename": "SyntaxError",
     "evalue": "invalid decimal literal (1663379309.py, line 7)",
     "output_type": "error",
     "traceback": [
      "\u001b[1;36m  Cell \u001b[1;32mIn[3], line 7\u001b[1;36m\u001b[0m\n\u001b[1;33m    print(list[2:]           *** Prints elements starting from 3rd element ***\u001b[0m\n\u001b[1;37m                                                               ^\u001b[0m\n\u001b[1;31mSyntaxError\u001b[0m\u001b[1;31m:\u001b[0m invalid decimal literal\n"
     ]
    }
   ],
   "source": [
    "list = [ 'Anaconda', 786 , 2.23, 'Jupyter', 70.2 \n",
    "shortlist = [321, 'Python']\n",
    "\n",
    "print(list)              *** Prints complete list ***\n",
    "print(list[0]            # Prints first element of the list\n",
    "print(list[1:3]          # Prints elements starting from 2nd till 3rd\n",
    "print(list[2:]           *** Prints elements starting from 3rd element ***\n",
    "print(shortlist * 2)     # Prints list two times\n",
    "print(list + shortlist)  # Prints concatenated lists"
   ]
  }
 ],
 "metadata": {
  "kernelspec": {
   "display_name": "Python 3 (ipykernel)",
   "language": "python",
   "name": "python3"
  },
  "language_info": {
   "codemirror_mode": {
    "name": "ipython",
    "version": 3
   },
   "file_extension": ".py",
   "mimetype": "text/x-python",
   "name": "python",
   "nbconvert_exporter": "python",
   "pygments_lexer": "ipython3",
   "version": "3.11.7"
  }
 },
 "nbformat": 4,
 "nbformat_minor": 5
}
