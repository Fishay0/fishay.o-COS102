{
 "cells": [
  {
   "cell_type": "code",
   "execution_count": null,
   "id": "e4dba9c1-6b5d-4630-a93c-801f17569c0d",
   "metadata": {},
   "outputs": [],
   "source": [
    "# Convert to int\n",
    "\n",
    "grade = int(70)     # grade will be 70\n",
    "gpa = int(4.9)      # gpa will be 4.9\n",
    "cgpa = int(\"4\")     # cgpa will be 4\n",
    "\n",
    "print(f\"Grade = {grade}\")\n",
    "print(f\""
   ]
  }
 ],
 "metadata": {
  "kernelspec": {
   "display_name": "Python 3 (ipykernel)",
   "language": "python",
   "name": "python3"
  },
  "language_info": {
   "codemirror_mode": {
    "name": "ipython",
    "version": 3
   },
   "file_extension": ".py",
   "mimetype": "text/x-python",
   "name": "python",
   "nbconvert_exporter": "python",
   "pygments_lexer": "ipython3",
   "version": "3.11.7"
  }
 },
 "nbformat": 4,
 "nbformat_minor": 5
}
