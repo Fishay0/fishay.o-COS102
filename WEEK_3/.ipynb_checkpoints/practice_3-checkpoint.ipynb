{
 "cells": [
  {
   "cell_type": "code",
   "execution_count": null,
   "id": "ca700675-f08a-4792-a9e8-5c07ed32043d",
   "metadata": {},
   "outputs": [],
   "source": [
    "list = [ 'Anaconda', 786 , 2.23, 'Jupyter', 70.2 \n",
    "shortlist = [321, 'Python']\n",
    "\n",
    "print(list)              *** Prints complete list ***\n",
    "print(list[0]            # Prints first element of the list\n",
    "print(list[1:3]          # Prints elements starting from 2nd till 3rd\n",
    "print(list[2:]           *** Prints elements starting from 3rd element***\n",
    "print(shortlist * 2)     # Prints list two times\n",
    "print(list + shortlist)  # Prints concatenated lists"
   ]
  },
  {
   "cell_type": "code",
   "execution_count": null,
   "id": "c38ada46-50a5-4c59-b3e7-dd90ed6e76b7",
   "metadata": {},
   "outputs": [],
   "source": []
  },
  {
   "cell_type": "code",
   "execution_count": null,
   "id": "39250464-2301-40e7-a638-3c99603ee6a0",
   "metadata": {},
   "outputs": [],
   "source": []
  },
  {
   "cell_type": "code",
   "execution_count": null,
   "id": "371cadf0-3dd7-4baa-ba5a-4cd9faf6f7a3",
   "metadata": {},
   "outputs": [],
   "source": []
  }
 ],
 "metadata": {
  "kernelspec": {
   "display_name": "Python 3 (ipykernel)",
   "language": "python",
   "name": "python3"
  },
  "language_info": {
   "name": ""
  }
 },
 "nbformat": 4,
 "nbformat_minor": 5
}
