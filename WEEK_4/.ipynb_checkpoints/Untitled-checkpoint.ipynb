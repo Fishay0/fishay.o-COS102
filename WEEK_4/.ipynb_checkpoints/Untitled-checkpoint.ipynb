{
 "cells": [
  {
   "cell_type": "code",
   "execution_count": null,
   "id": "ef73a1b3-034a-4a49-9657-f935097f8f08",
   "metadata": {},
   "outputs": [],
   "source": [
    "# Creating a list of numbers\n",
    "numbers = [1, 2, 3, 4, 5]\n",
    "\n",
    "# Creating a list of strings\n",
    "fruits = ['apple', 'banana', 'orange', 'kiwi']\n",
    "\n",
    "# Creating a list of mixed data types\n",
    "mixed_list = [1, 'apple', True, 3.14]\n",
    "\n",
    "# Creating an empty list\n",
    "empty_list = []\n"
   ]
  },
  {
   "cell_type": "code",
   "execution_count": null,
   "id": "c1693521-fa9d-48d4-b412-5ec5934e99f8",
   "metadata": {},
   "outputs": [],
   "source": []
  }
 ],
 "metadata": {
  "kernelspec": {
   "display_name": "Python 3 (ipykernel)",
   "language": "python",
   "name": "python3"
  },
  "language_info": {
   "name": ""
  }
 },
 "nbformat": 4,
 "nbformat_minor": 5
}
