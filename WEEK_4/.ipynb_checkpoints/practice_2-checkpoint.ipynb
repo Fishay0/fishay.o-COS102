{
 "cells": [
  {
   "cell_type": "code",
   "execution_count": null,
   "id": "1d941362-e741-4693-9049-152498aacfbd",
   "metadata": {},
   "outputs": [],
   "source": [
    "# Program to Check if a Number is Positive, Negative or 0 \n",
    "\n",
    "num = float(input(\"Enter a number: \"))\n",
    "if  num > 0:\n",
    " print(\"Positive number\")\n",
    "elif num == 0:\n",
    "    print(\"Zero\")\n",
    "else:\n",
    "    print(\"Negative number\")"
   ]
  },
  {
   "cell_type": "code",
   "execution_count": null,
   "id": "eb7b7ad4-51b0-4283-b74a-624dab1439b2",
   "metadata": {},
   "outputs": [],
   "source": []
  }
 ],
 "metadata": {
  "kernelspec": {
   "display_name": "Python 3 (ipykernel)",
   "language": "python",
   "name": "python3"
  },
  "language_info": {
   "codemirror_mode": {
    "name": "ipython",
    "version": 3
   },
   "file_extension": ".py",
   "mimetype": "text/x-python",
   "name": "python",
   "nbconvert_exporter": "python",
   "pygments_lexer": "ipython3",
   "version": "3.11.7"
  }
 },
 "nbformat": 4,
 "nbformat_minor": 5
}
